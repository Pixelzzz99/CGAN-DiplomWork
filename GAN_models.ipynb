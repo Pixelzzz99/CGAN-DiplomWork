{
 "cells": [
  {
   "cell_type": "code",
   "execution_count": 16,
   "metadata": {},
   "outputs": [],
   "source": [
    "import os\n",
    "import cv2\n",
    "import numpy as np\n",
    "import keras\n",
    "from keras import layers, optimizers, models, regularizers\n",
    "import matplotlib.pyplot as plt\n",
    "from tensorflow.keras.utils import plot_model\n",
    "import tensorflow as tf"
   ]
  },
  {
   "cell_type": "code",
   "execution_count": 18,
   "metadata": {},
   "outputs": [],
   "source": [
    "fixed_seed_num = 1234\n",
    "np.random.seed(fixed_seed_num)\n",
    "tf.random.set_seed(fixed_seed_num)"
   ]
  },
  {
   "cell_type": "code",
   "execution_count": 20,
   "metadata": {},
   "outputs": [],
   "source": [
    "def generator_model(x_shape, y_shape):\n",
    "    #encoder\n",
    "    generator_input = layers.Input(batch_size=(None, x_shape, y_shape, 1), name=\"generator_input\")\n",
    "    generator_input_normalized = layers.BatchNormalization()(generator_input)\n",
    "\n",
    "    conv1_32 = layers.Conv2D(16, kernel_size=(3, 3), strides=(1, 1), padding='same', activation='elu', kernel_regularizer=regularizers.l2(0.001))(generator_input)\n",
    "    conv1_32 = layers.BatchNormalization()(conv1_32)\n",
    "\n",
    "    conv2_64 = layers.Conv2D(32, kernel_size=(3, 3), strides=(1, 1), padding='same', activation='elu', kernel_regularizer=regularizers.l2(0.001))(conv1_32)\n",
    "    conv2_64 = layers.Conv2D(32, kernel_size=(3, 3), strides=(1, 1), padding='same', activation='elu', kernel_regularizer=regularizers.l2(0.001))(conv2_64)\n",
    "    conv2_64 = layers.MaxPooling(pool_size=(2, 2), padding='same')(conv2_64)\n",
    "    conv2_64 = layers.BatchNormalization()(conv2_64)\n",
    "\n",
    "    conv3_128 = layers.Conv2D(64, kernel_size=(3, 3), strides=(1, 1), padding='same', activation='elu', kernel_regularizer=regularizers.l2(0.001))(conv2_64)\n",
    "    conv3_128 = layers.Conv2D(64, kernel_size=(3, 3), strides=(1, 1), padding='same', activation='elu', kernel_regularizer=regularizers.l2(0.001))(conv3_128)\n",
    "    conv3_128 = layers.MaxPooling(pool_size=(2, 2), padding='same')(conv3_128)\n",
    "    conv3_128 = layers.BatchNormalization()(conv3_128)\n",
    "\n",
    "    conv4_256 = layers.Conv2D(128, kernel_size=(3, 3), strides=(1, 1), padding='same', activation='elu', kernel_regularizer=regularizers.l2(0.001))(conv3_128)\n",
    "    conv4_256 = layers.Conv2D(128, kernel_size=(3, 3), strides=(1, 1), padding='same', activation='elu', kernel_regularizer=regularizers.l2(0.001))(conv4_256)\n",
    "    conv4_256 = layers.MaxPooling(pool_size=(2, 2), padding='same')(conv4_256)\n",
    "    conv4_256 = layers.BatchNormalization()(conv4_256) \n",
    "\n",
    "    conv5_512 = layers.Conv2D(256, kernel_size=(3, 3), strides=(1, 1), padding='same', activation='elu', kernel_regularizer=regularizers.l2(0.001))(conv4_256)\n",
    "    conv5_512 = layers.Conv2D(256, kernel_size=(3, 3), strides=(1, 1), padding='same', activation='elu', kernel_regularizer=regularizers.l2(0.001))(conv5_512)\n",
    "    conv5_512 = layers.MaxPooling(pool_size=(2, 2), padding='same')(conv5_512)\n",
    "    conv5_512 = layers.BatchNormalization()(conv5_512)\n",
    "\n",
    "    conv6_512 = layers.Conv2D(512, kernel_size=(3, 3), strides=(1, 1), padding='same', activation='elu', kernel_regularizer=regularizers.l2(0.001))(conv5_512)\n",
    "    conv6_512 = layers.Conv2D(512, kernel_size=(3, 3), strides=(1, 1), padding='same', activation='elu', kernel_regularizer=regularizers.l2(0.001))(conv6_512)\n",
    "    conv6_512 = layers.MaxPooling(pool_size=(2, 2), padding='same')(conv6_512)\n",
    "    conv6_512 = layers.BatchNormalization()(conv6_512)\n",
    "\n",
    "    conv7_512 = layers.Conv2D(512, kernel_size=(3, 3), strides=(1, 1), padding='same', activation='elu', kernel_regularizer=regularizers.l2(0.001))(conv7_512)\n",
    "    conv7_512 = layers.BatchNormalization()(conv7_512)\n",
    "\n",
    "    #decoder\n",
    "\n",
    "    model = models.Model(inputs=generator_input, outputs=output)\n",
    "    return model\n"
   ]
  },
  {
   "cell_type": "code",
   "execution_count": 22,
   "metadata": {},
   "outputs": [],
   "source": [
    "def cGAN_model(generator, discriminator):\n",
    "    discriminator.trainable = False\n",
    "    model = models.Model(inputs=generator.inputs, outputs=[discriminator([generator.input, generator.output]), generator.output])\n",
    "    return model"
   ]
  },
  {
   "cell_type": "code",
   "execution_count": null,
   "metadata": {},
   "outputs": [],
   "source": []
  }
 ],
 "metadata": {
  "interpreter": {
   "hash": "2d78a900df9d945bd274ab278e4939af24370a351bcb4bb782edd16d29d102b4"
  },
  "kernelspec": {
   "display_name": "Python 3.9.7 ('tf-2.0')",
   "language": "python",
   "name": "python3"
  },
  "language_info": {
   "codemirror_mode": {
    "name": "ipython",
    "version": 3
   },
   "file_extension": ".py",
   "mimetype": "text/x-python",
   "name": "python",
   "nbconvert_exporter": "python",
   "pygments_lexer": "ipython3",
   "version": "3.9.7"
  },
  "orig_nbformat": 4
 },
 "nbformat": 4,
 "nbformat_minor": 2
}
